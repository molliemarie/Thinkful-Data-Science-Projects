{
 "cells": [
  {
   "cell_type": "code",
   "execution_count": 3,
   "metadata": {
    "collapsed": false
   },
   "outputs": [
    {
     "name": "stderr",
     "output_type": "stream",
     "text": [
      "usage: __main__.py [-h] [-v] [-q] [-f] [-c] [-b] [tests [tests ...]]\n",
      "__main__.py: error: unrecognized arguments: --profile-dir /Users/molliepettit/.ipython/profile_default\n"
     ]
    },
    {
     "ename": "SystemExit",
     "evalue": "2",
     "output_type": "error",
     "traceback": [
      "An exception has occurred, use %tb to see the full traceback.\n",
      "\u001b[0;31mSystemExit\u001b[0m\u001b[0;31m:\u001b[0m 2\n"
     ]
    },
    {
     "name": "stderr",
     "output_type": "stream",
     "text": [
      "To exit: use 'exit', 'quit', or Ctrl-D.\n"
     ]
    }
   ],
   "source": [
    "import unittest\n",
    "\n",
    "class ExampleTests(unittest.TestCase):\n",
    "    def fizzbuzz_goodtest(f):\n",
    "        output = []\n",
    "        for n in range(100):\n",
    "            output.append(str(f(n) + \"\\n\"))\n",
    "\n",
    "        expected = open(\"fizzbuzz-output.txt\", \"r\")\n",
    "        i = 0\n",
    "        for line in expected:\n",
    "            if line == output[i]:\n",
    "                print(\"Success!\")\n",
    "                i += 1\n",
    "            else:\n",
    "                print(\"Nope. Try Again.\")\n",
    "\n",
    "if __name__ == \"__main__\":\n",
    "    unittest.main()"
   ]
  },
  {
   "cell_type": "code",
   "execution_count": null,
   "metadata": {
    "collapsed": true
   },
   "outputs": [],
   "source": []
  }
 ],
 "metadata": {
  "kernelspec": {
   "display_name": "Python 3",
   "language": "python",
   "name": "python3"
  },
  "language_info": {
   "codemirror_mode": {
    "name": "ipython",
    "version": 3
   },
   "file_extension": ".py",
   "mimetype": "text/x-python",
   "name": "python",
   "nbconvert_exporter": "python",
   "pygments_lexer": "ipython3",
   "version": "3.4.3"
  }
 },
 "nbformat": 4,
 "nbformat_minor": 0
}
