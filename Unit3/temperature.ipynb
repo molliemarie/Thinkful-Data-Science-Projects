{
 "cells": [
  {
   "cell_type": "markdown",
   "metadata": {},
   "source": []
  },
  {
   "cell_type": "markdown",
   "metadata": {},
   "source": [
    "# Thinkful Data Science Course\n",
    "\n",
    "#Unit 3: Answering Questions with Data\n",
    "\n",
    "##Lesson 2: Cloudy with a Chance of Data - Analyzing Temperature Data\n",
    "\n",
    "####CHALLENGE\n",
    "Build the API call by combining the string elements in Python for your first city. You can use the datetime.datetime.now() function from the datetime package for the current datetime. You can use the datetime.timedelta() function to subtract or add time to a date. In this case, we'll be subtracting 30 days from the current date to get our start date and then iterating through until the present day. We do that like this start_date = datetime.datetime.now() - datetime.timedelta(days=30). This will subtract 30 days from the current day."
   ]
  },
  {
   "cell_type": "code",
   "execution_count": 5,
   "metadata": {
    "collapsed": true
   },
   "outputs": [],
   "source": [
    "import requests\n",
    "import sqlite3 as lite\n",
    "import datetime\n",
    "import pandas as pd\n",
    "import matplotlib.pyplot as plt\n",
    "import collections"
   ]
  },
  {
   "cell_type": "markdown",
   "metadata": {},
   "source": [
    "Test the call for your first city and make sure you have it formatted properly. You can start by just printing out the URL and pasting it into your browser before you use the requests package to do the call for you. This can help you troubleshoot any errors (though you can use the text and status_code attributes to also troubleshoot any errors)"
   ]
  },
  {
   "cell_type": "code",
   "execution_count": 5,
   "metadata": {
    "collapsed": true
   },
   "outputs": [],
   "source": [
    "api_key = \"66a4ee1dd841976fcf36a94a3b3b930e\"\n",
    "url = 'https://api.forecast.io/forecast/' + api_key + \"/\"\n",
    "cities = { \"Minneapolis\": '44.963324,-3.268320',\n",
    "            \"San_Francisco\": '37.727239,-123.032229',\n",
    "            \"Sioux_Falls\": '43.550116, -96.729280',\n",
    "            \"Tipton\": '42.015974, -84.064363',\n",
    "            \"Pheonix\": '33.572154,-112.090132'\n",
    "            # \"Abu Dhabi\": '24.483103, 54.353026',\n",
    "            # \"Fehmarn\": '54.465705, 11.136710'\n",
    "        }"
   ]
  },
  {
   "cell_type": "markdown",
   "metadata": {},
   "source": [
    "Once you have the URL formatted properly, issue the request from your code and inspect the result. How many levels does the data have? Which field do we want to save to get the daily maximum temperature?"
   ]
  },
  {
   "cell_type": "code",
   "execution_count": 6,
   "metadata": {
    "collapsed": true
   },
   "outputs": [],
   "source": [
    "end_date = datetime.datetime.now()\n",
    "query_date = end_date - datetime.timedelta(days=30) #the current value being processed"
   ]
  },
  {
   "cell_type": "code",
   "execution_count": 7,
   "metadata": {
    "collapsed": true
   },
   "outputs": [],
   "source": [
    "con = lite.connect('weather.db')\n",
    "cur = con.cursor()\n"
   ]
  },
  {
   "cell_type": "code",
   "execution_count": 8,
   "metadata": {
    "collapsed": false
   },
   "outputs": [
    {
     "data": {
      "text/plain": [
       "dict_keys(['Tipton', 'Sioux_Falls', 'Pheonix', 'Minneapolis', 'San_Francisco'])"
      ]
     },
     "execution_count": 8,
     "metadata": {},
     "output_type": "execute_result"
    }
   ],
   "source": [
    "cities.keys()"
   ]
  },
  {
   "cell_type": "markdown",
   "metadata": {},
   "source": [
    "Based on the data sample, create the table in a SQLite database called \"weather.db\"."
   ]
  },
  {
   "cell_type": "code",
   "execution_count": 9,
   "metadata": {
    "collapsed": false
   },
   "outputs": [],
   "source": [
    "with con:\n",
    "    cur.execute(\"DROP TABLE IF EXISTS daily_temp\")\n",
    "    cur.execute('CREATE TABLE daily_temp ( day_of_reading INT, Minneapolis REAL, San_Francisco REAL, Sioux_Falls REAL, Tipton REAL, Pheonix REAL);') #use your own city names instead of city1..."
   ]
  },
  {
   "cell_type": "markdown",
   "metadata": {},
   "source": [
    "In SQL, a row has to be inserted before it can be updated. In order to keep the code clean, we're going to iterate through the values in the range and insert them into the database without any other values"
   ]
  },
  {
   "cell_type": "code",
   "execution_count": 10,
   "metadata": {
    "collapsed": true
   },
   "outputs": [],
   "source": [
    "with con:\n",
    "    while query_date < end_date:\n",
    "        cur.execute(\"INSERT INTO daily_temp(day_of_reading) VALUES (?)\", (int(query_date.strftime('%s')),))\n",
    "        query_date += datetime.timedelta(days=1)"
   ]
  },
  {
   "cell_type": "markdown",
   "metadata": {},
   "source": [
    "Now we can loop through our cities and query the API\n",
    "\n",
    "Write a script that takes each city and queries every day for the past 30 days (Hint: You can use the datetime.timedelta(days=1) to increment the value by day)\n",
    "\n",
    "Save the max temperature values to the table, keyed on the date. You can query for the value"
   ]
  },
  {
   "cell_type": "code",
   "execution_count": 11,
   "metadata": {
    "collapsed": false
   },
   "outputs": [],
   "source": [
    "for k,v in cities.items():\n",
    "    query_date = end_date - datetime.timedelta(days=30) #set value each time through the loop of cities\n",
    "    while query_date < end_date:\n",
    "        #query for the value\n",
    "        r = requests.get(url + v + ',' +  query_date.strftime(\"%Y-%m-%dT%H:%M:%S\"))\n",
    "\n",
    "        with con: #inrsert the temperature max to the database\n",
    "            cur.execute('UPDATE daily_temp SET ' + k + ' = ' + str(r.json()['daily']['data'][0]['temperatureMax']) + ' WHERE day_of_reading = ' + query_date.strftime('%s'))\n",
    "        #increment query_date to the next day for next operation of loop\n",
    "        query_date += datetime.timedelta(days=1) #increment query_date to the next day\n",
    "\n",
    "con.close()"
   ]
  },
  {
   "cell_type": "code",
   "execution_count": 27,
   "metadata": {
    "collapsed": false
   },
   "outputs": [],
   "source": [
    "con = lite.connect('weather.db')\n",
    "cur = con.cursor()\n",
    "\n",
    "df = pd.read_sql_query(\"SELECT * FROM daily_temp ORDER BY day_of_reading\", con, index_col='day_of_reading')"
   ]
  },
  {
   "cell_type": "code",
   "execution_count": 28,
   "metadata": {
    "collapsed": false
   },
   "outputs": [
    {
     "data": {
      "text/html": [
       "<div>\n",
       "<table border=\"1\" class=\"dataframe\">\n",
       "  <thead>\n",
       "    <tr style=\"text-align: right;\">\n",
       "      <th></th>\n",
       "      <th>Minneapolis</th>\n",
       "      <th>San_Francisco</th>\n",
       "      <th>Sioux_Falls</th>\n",
       "      <th>Tipton</th>\n",
       "      <th>Pheonix</th>\n",
       "    </tr>\n",
       "    <tr>\n",
       "      <th>day_of_reading</th>\n",
       "      <th></th>\n",
       "      <th></th>\n",
       "      <th></th>\n",
       "      <th></th>\n",
       "      <th></th>\n",
       "    </tr>\n",
       "  </thead>\n",
       "  <tbody>\n",
       "    <tr>\n",
       "      <th>1438707734</th>\n",
       "      <td>71.21</td>\n",
       "      <td>65.51</td>\n",
       "      <td>77.94</td>\n",
       "      <td>79.18</td>\n",
       "      <td>108.81</td>\n",
       "    </tr>\n",
       "    <tr>\n",
       "      <th>1438794134</th>\n",
       "      <td>77.46</td>\n",
       "      <td>62.70</td>\n",
       "      <td>79.00</td>\n",
       "      <td>77.89</td>\n",
       "      <td>109.36</td>\n",
       "    </tr>\n",
       "    <tr>\n",
       "      <th>1438880534</th>\n",
       "      <td>74.30</td>\n",
       "      <td>60.90</td>\n",
       "      <td>81.60</td>\n",
       "      <td>75.72</td>\n",
       "      <td>102.99</td>\n",
       "    </tr>\n",
       "    <tr>\n",
       "      <th>1438966934</th>\n",
       "      <td>71.47</td>\n",
       "      <td>63.51</td>\n",
       "      <td>87.86</td>\n",
       "      <td>77.20</td>\n",
       "      <td>103.48</td>\n",
       "    </tr>\n",
       "    <tr>\n",
       "      <th>1439053334</th>\n",
       "      <td>66.57</td>\n",
       "      <td>62.51</td>\n",
       "      <td>83.60</td>\n",
       "      <td>76.10</td>\n",
       "      <td>99.94</td>\n",
       "    </tr>\n",
       "    <tr>\n",
       "      <th>1439139734</th>\n",
       "      <td>70.62</td>\n",
       "      <td>61.70</td>\n",
       "      <td>83.46</td>\n",
       "      <td>79.28</td>\n",
       "      <td>104.18</td>\n",
       "    </tr>\n",
       "    <tr>\n",
       "      <th>1439226134</th>\n",
       "      <td>75.87</td>\n",
       "      <td>63.51</td>\n",
       "      <td>81.13</td>\n",
       "      <td>75.40</td>\n",
       "      <td>102.28</td>\n",
       "    </tr>\n",
       "    <tr>\n",
       "      <th>1439312534</th>\n",
       "      <td>82.26</td>\n",
       "      <td>62.21</td>\n",
       "      <td>85.19</td>\n",
       "      <td>79.23</td>\n",
       "      <td>95.84</td>\n",
       "    </tr>\n",
       "    <tr>\n",
       "      <th>1439398934</th>\n",
       "      <td>75.73</td>\n",
       "      <td>66.11</td>\n",
       "      <td>88.26</td>\n",
       "      <td>75.62</td>\n",
       "      <td>105.61</td>\n",
       "    </tr>\n",
       "    <tr>\n",
       "      <th>1439485334</th>\n",
       "      <td>71.08</td>\n",
       "      <td>63.91</td>\n",
       "      <td>81.40</td>\n",
       "      <td>82.17</td>\n",
       "      <td>111.06</td>\n",
       "    </tr>\n",
       "    <tr>\n",
       "      <th>1439571734</th>\n",
       "      <td>67.49</td>\n",
       "      <td>64.00</td>\n",
       "      <td>90.53</td>\n",
       "      <td>83.91</td>\n",
       "      <td>112.59</td>\n",
       "    </tr>\n",
       "    <tr>\n",
       "      <th>1439658134</th>\n",
       "      <td>68.61</td>\n",
       "      <td>63.93</td>\n",
       "      <td>90.26</td>\n",
       "      <td>82.42</td>\n",
       "      <td>113.15</td>\n",
       "    </tr>\n",
       "    <tr>\n",
       "      <th>1439744534</th>\n",
       "      <td>70.37</td>\n",
       "      <td>64.12</td>\n",
       "      <td>76.76</td>\n",
       "      <td>85.19</td>\n",
       "      <td>110.10</td>\n",
       "    </tr>\n",
       "    <tr>\n",
       "      <th>1439830934</th>\n",
       "      <td>71.81</td>\n",
       "      <td>60.11</td>\n",
       "      <td>66.45</td>\n",
       "      <td>83.85</td>\n",
       "      <td>105.60</td>\n",
       "    </tr>\n",
       "    <tr>\n",
       "      <th>1439917334</th>\n",
       "      <td>71.38</td>\n",
       "      <td>62.21</td>\n",
       "      <td>66.94</td>\n",
       "      <td>82.56</td>\n",
       "      <td>103.74</td>\n",
       "    </tr>\n",
       "    <tr>\n",
       "      <th>1440003734</th>\n",
       "      <td>72.05</td>\n",
       "      <td>63.41</td>\n",
       "      <td>70.01</td>\n",
       "      <td>83.70</td>\n",
       "      <td>104.02</td>\n",
       "    </tr>\n",
       "    <tr>\n",
       "      <th>1440090134</th>\n",
       "      <td>75.52</td>\n",
       "      <td>62.41</td>\n",
       "      <td>77.80</td>\n",
       "      <td>71.87</td>\n",
       "      <td>104.15</td>\n",
       "    </tr>\n",
       "    <tr>\n",
       "      <th>1440176534</th>\n",
       "      <td>74.56</td>\n",
       "      <td>61.07</td>\n",
       "      <td>81.56</td>\n",
       "      <td>76.84</td>\n",
       "      <td>102.76</td>\n",
       "    </tr>\n",
       "    <tr>\n",
       "      <th>1440262934</th>\n",
       "      <td>71.36</td>\n",
       "      <td>61.20</td>\n",
       "      <td>79.11</td>\n",
       "      <td>78.84</td>\n",
       "      <td>101.37</td>\n",
       "    </tr>\n",
       "    <tr>\n",
       "      <th>1440349334</th>\n",
       "      <td>69.62</td>\n",
       "      <td>62.69</td>\n",
       "      <td>68.70</td>\n",
       "      <td>80.91</td>\n",
       "      <td>103.44</td>\n",
       "    </tr>\n",
       "    <tr>\n",
       "      <th>1440435734</th>\n",
       "      <td>68.59</td>\n",
       "      <td>63.25</td>\n",
       "      <td>70.96</td>\n",
       "      <td>72.44</td>\n",
       "      <td>103.75</td>\n",
       "    </tr>\n",
       "    <tr>\n",
       "      <th>1440522134</th>\n",
       "      <td>70.88</td>\n",
       "      <td>60.73</td>\n",
       "      <td>74.46</td>\n",
       "      <td>63.86</td>\n",
       "      <td>96.99</td>\n",
       "    </tr>\n",
       "    <tr>\n",
       "      <th>1440608534</th>\n",
       "      <td>71.54</td>\n",
       "      <td>61.68</td>\n",
       "      <td>77.71</td>\n",
       "      <td>66.77</td>\n",
       "      <td>101.83</td>\n",
       "    </tr>\n",
       "    <tr>\n",
       "      <th>1440694934</th>\n",
       "      <td>74.35</td>\n",
       "      <td>63.69</td>\n",
       "      <td>77.43</td>\n",
       "      <td>68.35</td>\n",
       "      <td>104.23</td>\n",
       "    </tr>\n",
       "    <tr>\n",
       "      <th>1440781334</th>\n",
       "      <td>70.24</td>\n",
       "      <td>63.40</td>\n",
       "      <td>70.11</td>\n",
       "      <td>76.83</td>\n",
       "      <td>106.40</td>\n",
       "    </tr>\n",
       "    <tr>\n",
       "      <th>1440867734</th>\n",
       "      <td>73.07</td>\n",
       "      <td>63.89</td>\n",
       "      <td>75.66</td>\n",
       "      <td>77.09</td>\n",
       "      <td>108.06</td>\n",
       "    </tr>\n",
       "    <tr>\n",
       "      <th>1440954134</th>\n",
       "      <td>68.82</td>\n",
       "      <td>63.88</td>\n",
       "      <td>77.71</td>\n",
       "      <td>81.84</td>\n",
       "      <td>105.28</td>\n",
       "    </tr>\n",
       "    <tr>\n",
       "      <th>1441040534</th>\n",
       "      <td>68.21</td>\n",
       "      <td>63.40</td>\n",
       "      <td>84.02</td>\n",
       "      <td>84.62</td>\n",
       "      <td>102.39</td>\n",
       "    </tr>\n",
       "    <tr>\n",
       "      <th>1441126934</th>\n",
       "      <td>66.05</td>\n",
       "      <td>62.68</td>\n",
       "      <td>81.92</td>\n",
       "      <td>86.81</td>\n",
       "      <td>97.99</td>\n",
       "    </tr>\n",
       "    <tr>\n",
       "      <th>1441213334</th>\n",
       "      <td>66.25</td>\n",
       "      <td>62.54</td>\n",
       "      <td>86.98</td>\n",
       "      <td>88.35</td>\n",
       "      <td>98.25</td>\n",
       "    </tr>\n",
       "  </tbody>\n",
       "</table>\n",
       "</div>"
      ],
      "text/plain": [
       "                Minneapolis  San_Francisco  Sioux_Falls  Tipton  Pheonix\n",
       "day_of_reading                                                          \n",
       "1438707734            71.21          65.51        77.94   79.18   108.81\n",
       "1438794134            77.46          62.70        79.00   77.89   109.36\n",
       "1438880534            74.30          60.90        81.60   75.72   102.99\n",
       "1438966934            71.47          63.51        87.86   77.20   103.48\n",
       "1439053334            66.57          62.51        83.60   76.10    99.94\n",
       "1439139734            70.62          61.70        83.46   79.28   104.18\n",
       "1439226134            75.87          63.51        81.13   75.40   102.28\n",
       "1439312534            82.26          62.21        85.19   79.23    95.84\n",
       "1439398934            75.73          66.11        88.26   75.62   105.61\n",
       "1439485334            71.08          63.91        81.40   82.17   111.06\n",
       "1439571734            67.49          64.00        90.53   83.91   112.59\n",
       "1439658134            68.61          63.93        90.26   82.42   113.15\n",
       "1439744534            70.37          64.12        76.76   85.19   110.10\n",
       "1439830934            71.81          60.11        66.45   83.85   105.60\n",
       "1439917334            71.38          62.21        66.94   82.56   103.74\n",
       "1440003734            72.05          63.41        70.01   83.70   104.02\n",
       "1440090134            75.52          62.41        77.80   71.87   104.15\n",
       "1440176534            74.56          61.07        81.56   76.84   102.76\n",
       "1440262934            71.36          61.20        79.11   78.84   101.37\n",
       "1440349334            69.62          62.69        68.70   80.91   103.44\n",
       "1440435734            68.59          63.25        70.96   72.44   103.75\n",
       "1440522134            70.88          60.73        74.46   63.86    96.99\n",
       "1440608534            71.54          61.68        77.71   66.77   101.83\n",
       "1440694934            74.35          63.69        77.43   68.35   104.23\n",
       "1440781334            70.24          63.40        70.11   76.83   106.40\n",
       "1440867734            73.07          63.89        75.66   77.09   108.06\n",
       "1440954134            68.82          63.88        77.71   81.84   105.28\n",
       "1441040534            68.21          63.40        84.02   84.62   102.39\n",
       "1441126934            66.05          62.68        81.92   86.81    97.99\n",
       "1441213334            66.25          62.54        86.98   88.35    98.25"
      ]
     },
     "execution_count": 28,
     "metadata": {},
     "output_type": "execute_result"
    }
   ],
   "source": [
    "df"
   ]
  },
  {
   "cell_type": "markdown",
   "metadata": {},
   "source": [
    "###Profiling Temperature Data\n",
    "\n",
    "Follow the example in the previous lesson and in the lessons from the last unit and describe the data you have. What's the range of temperatures for each city? Whatis the mean temperature for each city? What's the variance? Are there any patterns in the data? Which cities had the largest temperature changes over the time period?\n",
    "\n",
    "####Range"
   ]
  },
  {
   "cell_type": "code",
   "execution_count": 6,
   "metadata": {
    "collapsed": false
   },
   "outputs": [
    {
     "name": "stdout",
     "output_type": "stream",
     "text": [
      "In Minneapolis, the temperature has ranged from  66.05 to  82.26\n",
      "In San Francisco, the temperature has ranged from  60.11 to  66.11\n",
      "In Sioux Falls, the temperature has ranged from  66.45 to  90.53\n",
      "In Tipton, the temperature has ranged from  63.86 to  88.35\n",
      "In Phoenix, the temperature has ranged from  95.84 to  113.15\n"
     ]
    }
   ],
   "source": [
    "print('In Minneapolis, the temperature has ranged from ', min(df['Minneapolis']), 'to ', max(df['Minneapolis']))\n",
    "print('In San Francisco, the temperature has ranged from ', min(df['San_Francisco']), 'to ', max(df['San_Francisco']))\n",
    "print('In Sioux Falls, the temperature has ranged from ', min(df['Sioux_Falls']), 'to ', max(df['Sioux_Falls']))\n",
    "print('In Tipton, the temperature has ranged from ', min(df['Tipton']), 'to ', max(df['Tipton']))\n",
    "print('In Phoenix, the temperature has ranged from ', min(df['Pheonix']), 'to ', max(df['Pheonix']))\n",
    "# print('In Abu Dhabi, the temperature has ranged from ', min(df['Abu_Dhabi']), 'to ', max(df['Abu_Dhabi']))\n",
    "# print('In Fehmarn, the temperature has ranged from ', min(df['Fehmarn']), 'to ', max(df['Fehmarn']))"
   ]
  },
  {
   "cell_type": "code",
   "execution_count": 60,
   "metadata": {
    "collapsed": false
   },
   "outputs": [
    {
     "name": "stdout",
     "output_type": "stream",
     "text": [
      "In Minneapolis, the temperature ranged over  16.21 degrees\n",
      "In San Francisco, the temperature ranged over  6.0 degrees\n",
      "In Sioux Falls, the temperature ranged over  24.08 degrees\n",
      "In Tipton, the temperature ranged over  24.49 degrees\n",
      "In Phoenix, the temperature ranged over  17.31 degrees\n"
     ]
    }
   ],
   "source": [
    "print('In Minneapolis, the temperature ranged over ', max(df['Minneapolis']) - min(df['Minneapolis']), 'degrees')\n",
    "print('In San Francisco, the temperature ranged over ', max(df['San_Francisco']) - min(df['San_Francisco']), 'degrees')\n",
    "print('In Sioux Falls, the temperature ranged over ', max(df['Sioux_Falls']) - min(df['Sioux_Falls']), 'degrees')\n",
    "print('In Tipton, the temperature ranged over ', max(df['Tipton']) - min(df['Tipton']), 'degrees')\n",
    "print('In Phoenix, the temperature ranged over ', max(df['Pheonix']) - min(df['Pheonix']), 'degrees')\n",
    "# print('In Abu Dhabi, the temperature has ranged from ', min(df['Abu_Dhabi']), 'to ', max(df['Abu_Dhabi']))\n",
    "# print('In Fehmarn, the temperature has ranged from ', min(df['Fehmarn']), 'to ', max(df['Fehmarn']))"
   ]
  },
  {
   "cell_type": "markdown",
   "metadata": {},
   "source": [
    "####Mean"
   ]
  },
  {
   "cell_type": "code",
   "execution_count": 7,
   "metadata": {
    "collapsed": false
   },
   "outputs": [
    {
     "name": "stdout",
     "output_type": "stream",
     "text": [
      "In Minneapolis, the mean temperature from the past thirty days is 71.57799999999997\n",
      "In San Francisco, the mean temperature from the past thirty days is 62.895333333333355\n",
      "In Sioux Fals, the mean temperature from the past thirty days is 79.15066666666667\n",
      "In Tipton, the mean temperature from the past thirty days is 78.49466666666665\n",
      "In Phoenix, the mean temperature from the past thirty days is 104.32133333333331\n"
     ]
    }
   ],
   "source": [
    "print('In Minneapolis, the mean temperature from the past thirty days is', (df['Minneapolis'].mean()))\n",
    "print('In San Francisco, the mean temperature from the past thirty days is', (df['San_Francisco'].mean()))\n",
    "print('In Sioux Fals, the mean temperature from the past thirty days is', (df['Sioux_Falls'].mean()))\n",
    "print('In Tipton, the mean temperature from the past thirty days is', (df['Tipton'].mean()))\n",
    "print('In Phoenix, the mean temperature from the past thirty days is', (df['Pheonix'].mean()))\n",
    "# print('In Abu Dhabi, the mean temperature from the past thirty days is', (df['Abu_Dhabi'].mean()))\n",
    "# print('In Fehmarn, the mean temperature from the past thirty days is', (df['Fehmarn'].mean()))"
   ]
  },
  {
   "cell_type": "markdown",
   "metadata": {},
   "source": [
    "####Variance"
   ]
  },
  {
   "cell_type": "code",
   "execution_count": 13,
   "metadata": {
    "collapsed": false
   },
   "outputs": [
    {
     "name": "stdout",
     "output_type": "stream",
     "text": [
      "In Minneapolis, the variance in temperature from the past thirty days is 12.854754482758628\n",
      "In San Francisco, the variance in temperature from the past thirty days is 1.8397636781609201\n",
      "In Sioux Falls, the variance in temperature from the past thirty days is 44.90908919540232\n",
      "In Tipton, the mean variance in from the past thirty days is 33.580474022988504\n",
      "In Phoenix, the mean variance in from the past thirty days is 18.76946712643679\n"
     ]
    }
   ],
   "source": [
    "print('In Minneapolis, the variance in temperature from the past thirty days is', (df['Minneapolis'].var()))\n",
    "print('In San Francisco, the variance in temperature from the past thirty days is', (df['San_Francisco'].var()))\n",
    "print('In Sioux Falls, the variance in temperature from the past thirty days is', (df['Sioux_Falls'].var()))\n",
    "print('In Tipton, the mean variance in from the past thirty days is', (df['Tipton'].var()))\n",
    "print('In Phoenix, the mean variance in from the past thirty days is', (df['Pheonix'].var()))\n",
    "# print('In Abu Dhabi, the mean temperature from the past thirty days is', (df['Abu_Dhabi'].mean()))\n",
    "# print('In Fehmarn, the mean temperature from the past thirty days is', (df['Fehmarn'].mean()))"
   ]
  },
  {
   "cell_type": "code",
   "execution_count": null,
   "metadata": {
    "collapsed": false
   },
   "outputs": [],
   "source": [
    "plt.figure()\n",
    "(df['Minneapolis']).hist()\n",
    "plt.title('Temperatures in Minneapolis over last 30 days')\n",
    "plt.xlabel('Temp (F)')\n",
    "plt.ylabel('Count')\n",
    "plt.show()\n",
    "\n",
    "plt.close()\n",
    "plt.figure()\n",
    "(df['San_Francisco']).hist()\n",
    "plt.title('Temperatures in San Francisco over last 30 days')\n",
    "plt.xlabel('Temp (F)')\n",
    "plt.ylabel('Count')\n",
    "plt.show()"
   ]
  },
  {
   "cell_type": "markdown",
   "metadata": {},
   "source": [
    "###Analyzing Temperature Data\n",
    "\n",
    "Just as you did with the Citi Bike data, go through the the sequence of temperature readings and calculate the change between days and find the greatest range in high temperatures in the month you measured. Which city had the greatest variation? What is the distribution of the difference? Does the result surprise you? Why or why not?\n",
    "\n",
    "Using this approach, we don't have to limit ourselves to 5 cities or analyzing only high temperatures. We could record all the weather variables and compare the changes over time for 100 cities in whatever timeframe we wanted (so long as we don't mind paying for the API calls). For a project that size, it might make sense to graduate from SQLite to a more fully featured database that could handle the extra load, but the principles stay the same."
   ]
  },
  {
   "cell_type": "code",
   "execution_count": 6,
   "metadata": {
    "collapsed": false
   },
   "outputs": [],
   "source": [
    "day_change = collections.defaultdict(int)"
   ]
  },
  {
   "cell_type": "code",
   "execution_count": 7,
   "metadata": {
    "collapsed": false
   },
   "outputs": [
    {
     "data": {
      "text/plain": [
       "defaultdict(<class 'int'>, {})"
      ]
     },
     "execution_count": 7,
     "metadata": {},
     "output_type": "execute_result"
    }
   ],
   "source": [
    "day_change"
   ]
  },
  {
   "cell_type": "code",
   "execution_count": 29,
   "metadata": {
    "collapsed": false
   },
   "outputs": [
    {
     "name": "stdout",
     "output_type": "stream",
     "text": [
      "[71.209999999999994, 77.459999999999994, 74.299999999999997, 71.469999999999999, 66.569999999999993, 70.620000000000005, 75.870000000000005, 82.260000000000005, 75.730000000000004, 71.079999999999998, 67.489999999999995, 68.609999999999999, 70.370000000000005, 71.810000000000002, 71.379999999999995, 72.049999999999997, 75.519999999999996, 74.560000000000002, 71.359999999999999, 69.620000000000005, 68.590000000000003, 70.879999999999995, 71.540000000000006, 74.349999999999994, 70.239999999999995, 73.069999999999993, 68.819999999999993, 68.209999999999994, 66.049999999999997, 66.25]\n",
      "[65.510000000000005, 62.700000000000003, 60.899999999999999, 63.509999999999998, 62.509999999999998, 61.700000000000003, 63.509999999999998, 62.210000000000001, 66.109999999999999, 63.909999999999997, 64.0, 63.93, 64.120000000000005, 60.109999999999999, 62.210000000000001, 63.409999999999997, 62.409999999999997, 61.07, 61.200000000000003, 62.689999999999998, 63.25, 60.729999999999997, 61.68, 63.689999999999998, 63.399999999999999, 63.890000000000001, 63.880000000000003, 63.399999999999999, 62.68, 62.539999999999999]\n",
      "[77.939999999999998, 79.0, 81.599999999999994, 87.859999999999999, 83.599999999999994, 83.459999999999994, 81.129999999999995, 85.189999999999998, 88.260000000000005, 81.400000000000006, 90.530000000000001, 90.260000000000005, 76.760000000000005, 66.450000000000003, 66.939999999999998, 70.010000000000005, 77.799999999999997, 81.560000000000002, 79.109999999999999, 68.700000000000003, 70.959999999999994, 74.459999999999994, 77.709999999999994, 77.430000000000007, 70.109999999999999, 75.659999999999997, 77.709999999999994, 84.019999999999996, 81.920000000000002, 86.980000000000004]\n",
      "[79.180000000000007, 77.890000000000001, 75.719999999999999, 77.200000000000003, 76.099999999999994, 79.280000000000001, 75.400000000000006, 79.230000000000004, 75.620000000000005, 82.170000000000002, 83.909999999999997, 82.420000000000002, 85.189999999999998, 83.849999999999994, 82.560000000000002, 83.700000000000003, 71.870000000000005, 76.840000000000003, 78.840000000000003, 80.909999999999997, 72.439999999999998, 63.859999999999999, 66.769999999999996, 68.349999999999994, 76.829999999999998, 77.090000000000003, 81.840000000000003, 84.620000000000005, 86.810000000000002, 88.349999999999994]\n",
      "[108.81, 109.36, 102.98999999999999, 103.48, 99.939999999999998, 104.18000000000001, 102.28, 95.840000000000003, 105.61, 111.06, 112.59, 113.15000000000001, 110.09999999999999, 105.59999999999999, 103.73999999999999, 104.02, 104.15000000000001, 102.76000000000001, 101.37, 103.44, 103.75, 96.989999999999995, 101.83, 104.23, 106.40000000000001, 108.06, 105.28, 102.39, 97.989999999999995, 98.25]\n"
     ]
    }
   ],
   "source": [
    "for col in df.columns:\n",
    "    print(df[col].tolist())"
   ]
  },
  {
   "cell_type": "markdown",
   "metadata": {},
   "source": [
    "The following code will find the day-to-day changes in temperature"
   ]
  },
  {
   "cell_type": "code",
   "execution_count": 58,
   "metadata": {
    "collapsed": false
   },
   "outputs": [
    {
     "name": "stdout",
     "output_type": "stream",
     "text": [
      "The Temp ids are: Minneapolis\n",
      "The temp vals are:  [71.209999999999994, 77.459999999999994, 74.299999999999997, 71.469999999999999, 66.569999999999993, 70.620000000000005, 75.870000000000005, 82.260000000000005, 75.730000000000004, 71.079999999999998, 67.489999999999995, 68.609999999999999, 70.370000000000005, 71.810000000000002, 71.379999999999995, 72.049999999999997, 75.519999999999996, 74.560000000000002, 71.359999999999999, 69.620000000000005, 68.590000000000003, 70.879999999999995, 71.540000000000006, 74.349999999999994, 70.239999999999995, 73.069999999999993, 68.819999999999993, 68.209999999999994, 66.049999999999997, 66.25]\n",
      "The temp_change is:  6.25\n",
      "The temp_change is:  3.16\n",
      "The temp_change is:  2.83\n",
      "The temp_change is:  4.9\n",
      "The temp_change is:  4.05\n",
      "The temp_change is:  5.25\n",
      "The temp_change is:  6.39\n",
      "The temp_change is:  6.53\n",
      "The temp_change is:  4.65\n",
      "The temp_change is:  3.59\n",
      "The temp_change is:  1.12\n",
      "The temp_change is:  1.76\n",
      "The temp_change is:  1.44\n",
      "The temp_change is:  0.43\n",
      "The temp_change is:  0.67\n",
      "The temp_change is:  3.47\n",
      "The temp_change is:  0.96\n",
      "The temp_change is:  3.2\n",
      "The temp_change is:  1.74\n",
      "The temp_change is:  1.03\n",
      "The temp_change is:  2.29\n",
      "The temp_change is:  0.66\n",
      "The temp_change is:  2.81\n",
      "The temp_change is:  4.11\n",
      "The temp_change is:  2.83\n",
      "The temp_change is:  4.25\n",
      "The temp_change is:  0.61\n",
      "The temp_change is:  2.16\n",
      "The temp_change is:  0.2\n",
      "The day_change is: defaultdict(<class 'int'>, {'Sioux_Falls': 5.0600000000000023, 'Minneapolis': 0.20000000000000284, 'Pheonix': 0.26000000000000512, 'San_Francisco': 0.14000000000000057, 'Tipton': 1.539999999999992})\n",
      "The Temp ids are: San_Francisco\n",
      "The temp vals are:  [65.510000000000005, 62.700000000000003, 60.899999999999999, 63.509999999999998, 62.509999999999998, 61.700000000000003, 63.509999999999998, 62.210000000000001, 66.109999999999999, 63.909999999999997, 64.0, 63.93, 64.120000000000005, 60.109999999999999, 62.210000000000001, 63.409999999999997, 62.409999999999997, 61.07, 61.200000000000003, 62.689999999999998, 63.25, 60.729999999999997, 61.68, 63.689999999999998, 63.399999999999999, 63.890000000000001, 63.880000000000003, 63.399999999999999, 62.68, 62.539999999999999]\n",
      "The temp_change is:  2.81\n",
      "The temp_change is:  1.8\n",
      "The temp_change is:  2.61\n",
      "The temp_change is:  1.0\n",
      "The temp_change is:  0.81\n",
      "The temp_change is:  1.81\n",
      "The temp_change is:  1.3\n",
      "The temp_change is:  3.9\n",
      "The temp_change is:  2.2\n",
      "The temp_change is:  0.09\n",
      "The temp_change is:  0.07\n",
      "The temp_change is:  0.19\n",
      "The temp_change is:  4.01\n",
      "The temp_change is:  2.1\n",
      "The temp_change is:  1.2\n",
      "The temp_change is:  1.0\n",
      "The temp_change is:  1.34\n",
      "The temp_change is:  0.13\n",
      "The temp_change is:  1.49\n",
      "The temp_change is:  0.56\n",
      "The temp_change is:  2.52\n",
      "The temp_change is:  0.95\n",
      "The temp_change is:  2.01\n",
      "The temp_change is:  0.29\n",
      "The temp_change is:  0.49\n",
      "The temp_change is:  0.01\n",
      "The temp_change is:  0.48\n",
      "The temp_change is:  0.72\n",
      "The temp_change is:  0.14\n",
      "The day_change is: defaultdict(<class 'int'>, {'Sioux_Falls': 5.0600000000000023, 'Minneapolis': 0.20000000000000284, 'Pheonix': 0.26000000000000512, 'San_Francisco': 0.14000000000000057, 'Tipton': 1.539999999999992})\n",
      "The Temp ids are: Sioux_Falls\n",
      "The temp vals are:  [77.939999999999998, 79.0, 81.599999999999994, 87.859999999999999, 83.599999999999994, 83.459999999999994, 81.129999999999995, 85.189999999999998, 88.260000000000005, 81.400000000000006, 90.530000000000001, 90.260000000000005, 76.760000000000005, 66.450000000000003, 66.939999999999998, 70.010000000000005, 77.799999999999997, 81.560000000000002, 79.109999999999999, 68.700000000000003, 70.959999999999994, 74.459999999999994, 77.709999999999994, 77.430000000000007, 70.109999999999999, 75.659999999999997, 77.709999999999994, 84.019999999999996, 81.920000000000002, 86.980000000000004]\n",
      "The temp_change is:  1.06\n",
      "The temp_change is:  2.6\n",
      "The temp_change is:  6.26\n",
      "The temp_change is:  4.26\n",
      "The temp_change is:  0.14\n",
      "The temp_change is:  2.33\n",
      "The temp_change is:  4.06\n",
      "The temp_change is:  3.07\n",
      "The temp_change is:  6.86\n",
      "The temp_change is:  9.13\n",
      "The temp_change is:  0.27\n",
      "The temp_change is:  13.5\n",
      "The temp_change is:  10.31\n",
      "The temp_change is:  0.49\n",
      "The temp_change is:  3.07\n",
      "The temp_change is:  7.79\n",
      "The temp_change is:  3.76\n",
      "The temp_change is:  2.45\n",
      "The temp_change is:  10.41\n",
      "The temp_change is:  2.26\n",
      "The temp_change is:  3.5\n",
      "The temp_change is:  3.25\n",
      "The temp_change is:  0.28\n",
      "The temp_change is:  7.32\n",
      "The temp_change is:  5.55\n",
      "The temp_change is:  2.05\n",
      "The temp_change is:  6.31\n",
      "The temp_change is:  2.1\n",
      "The temp_change is:  5.06\n",
      "The day_change is: defaultdict(<class 'int'>, {'Sioux_Falls': 5.0600000000000023, 'Minneapolis': 0.20000000000000284, 'Pheonix': 0.26000000000000512, 'San_Francisco': 0.14000000000000057, 'Tipton': 1.539999999999992})\n",
      "The Temp ids are: Tipton\n",
      "The temp vals are:  [79.180000000000007, 77.890000000000001, 75.719999999999999, 77.200000000000003, 76.099999999999994, 79.280000000000001, 75.400000000000006, 79.230000000000004, 75.620000000000005, 82.170000000000002, 83.909999999999997, 82.420000000000002, 85.189999999999998, 83.849999999999994, 82.560000000000002, 83.700000000000003, 71.870000000000005, 76.840000000000003, 78.840000000000003, 80.909999999999997, 72.439999999999998, 63.859999999999999, 66.769999999999996, 68.349999999999994, 76.829999999999998, 77.090000000000003, 81.840000000000003, 84.620000000000005, 86.810000000000002, 88.349999999999994]\n",
      "The temp_change is:  1.29\n",
      "The temp_change is:  2.17\n",
      "The temp_change is:  1.48\n",
      "The temp_change is:  1.1\n",
      "The temp_change is:  3.18\n",
      "The temp_change is:  3.88\n",
      "The temp_change is:  3.83\n",
      "The temp_change is:  3.61\n",
      "The temp_change is:  6.55\n",
      "The temp_change is:  1.74\n",
      "The temp_change is:  1.49\n",
      "The temp_change is:  2.77\n",
      "The temp_change is:  1.34\n",
      "The temp_change is:  1.29\n",
      "The temp_change is:  1.14\n",
      "The temp_change is:  11.83\n",
      "The temp_change is:  4.97\n",
      "The temp_change is:  2.0\n",
      "The temp_change is:  2.07\n",
      "The temp_change is:  8.47\n",
      "The temp_change is:  8.58\n",
      "The temp_change is:  2.91\n",
      "The temp_change is:  1.58\n",
      "The temp_change is:  8.48\n",
      "The temp_change is:  0.26\n",
      "The temp_change is:  4.75\n",
      "The temp_change is:  2.78\n",
      "The temp_change is:  2.19\n",
      "The temp_change is:  1.54\n",
      "The day_change is: defaultdict(<class 'int'>, {'Sioux_Falls': 5.0600000000000023, 'Minneapolis': 0.20000000000000284, 'Pheonix': 0.26000000000000512, 'San_Francisco': 0.14000000000000057, 'Tipton': 1.539999999999992})\n",
      "The Temp ids are: Pheonix\n",
      "The temp vals are:  [108.81, 109.36, 102.98999999999999, 103.48, 99.939999999999998, 104.18000000000001, 102.28, 95.840000000000003, 105.61, 111.06, 112.59, 113.15000000000001, 110.09999999999999, 105.59999999999999, 103.73999999999999, 104.02, 104.15000000000001, 102.76000000000001, 101.37, 103.44, 103.75, 96.989999999999995, 101.83, 104.23, 106.40000000000001, 108.06, 105.28, 102.39, 97.989999999999995, 98.25]\n",
      "The temp_change is:  0.55\n",
      "The temp_change is:  6.37\n",
      "The temp_change is:  0.49\n",
      "The temp_change is:  3.54\n",
      "The temp_change is:  4.24\n",
      "The temp_change is:  1.9\n",
      "The temp_change is:  6.44\n",
      "The temp_change is:  9.77\n",
      "The temp_change is:  5.45\n",
      "The temp_change is:  1.53\n",
      "The temp_change is:  0.56\n",
      "The temp_change is:  3.05\n",
      "The temp_change is:  4.5\n",
      "The temp_change is:  1.86\n",
      "The temp_change is:  0.28\n",
      "The temp_change is:  0.13\n",
      "The temp_change is:  1.39\n",
      "The temp_change is:  1.39\n",
      "The temp_change is:  2.07\n",
      "The temp_change is:  0.31\n",
      "The temp_change is:  6.76\n",
      "The temp_change is:  4.84\n",
      "The temp_change is:  2.4\n",
      "The temp_change is:  2.17\n",
      "The temp_change is:  1.66\n",
      "The temp_change is:  2.78\n",
      "The temp_change is:  2.89\n",
      "The temp_change is:  4.4\n",
      "The temp_change is:  0.26\n",
      "The day_change is: defaultdict(<class 'int'>, {'Sioux_Falls': 5.0600000000000023, 'Minneapolis': 0.20000000000000284, 'Pheonix': 0.26000000000000512, 'San_Francisco': 0.14000000000000057, 'Tipton': 1.539999999999992})\n"
     ]
    }
   ],
   "source": [
    "\n",
    "for col in df.columns:\n",
    "    temp_id = col[:]\n",
    "    print('The Temp ids are:', temp_id)\n",
    "    temp_vals = df[col].tolist()\n",
    "    print('The temp vals are: ',temp_vals)\n",
    "    temp_change = 0\n",
    "\n",
    "    for k,v in enumerate(temp_vals):\n",
    "        if k < len(temp_vals) - 1:\n",
    "            temp_change = abs(temp_vals[k] - temp_vals[k+1])\n",
    "            print('The temp_change is: ',temp_change)\n",
    "        \n",
    "    day_change[(temp_id)] = temp_change \n",
    "    print('The day_change is:',day_change)"
   ]
  },
  {
   "cell_type": "code",
   "execution_count": 50,
   "metadata": {
    "collapsed": true
   },
   "outputs": [],
   "source": [
    "def keywithmaxval(d): \n",
    "\treturn max(d,key=lambda k:d[k])"
   ]
  },
  {
   "cell_type": "code",
   "execution_count": 52,
   "metadata": {
    "collapsed": true
   },
   "outputs": [],
   "source": [
    "max_city = keywithmaxval(day_change)"
   ]
  },
  {
   "cell_type": "code",
   "execution_count": 53,
   "metadata": {
    "collapsed": false
   },
   "outputs": [
    {
     "data": {
      "text/plain": [
       "'Sioux_Falls'"
      ]
     },
     "execution_count": 53,
     "metadata": {},
     "output_type": "execute_result"
    }
   ],
   "source": [
    "max_city"
   ]
  },
  {
   "cell_type": "code",
   "execution_count": 59,
   "metadata": {
    "collapsed": false
   },
   "outputs": [
    {
     "name": "stdout",
     "output_type": "stream",
     "text": [
      "The city with the greatest temperature variation between two days is Sioux_Falls with a temperate difference of  5.06\n"
     ]
    }
   ],
   "source": [
    "print(\"The city with the greatest temperature variation between two days is\", max_city, 'with a temperate difference of ', str(day_change[max_city]))"
   ]
  },
  {
   "cell_type": "code",
   "execution_count": null,
   "metadata": {
    "collapsed": true
   },
   "outputs": [],
   "source": [
    "plt.bar(day_change.keys(), day_change.values())\n",
    "plt.show()"
   ]
  },
  {
   "cell_type": "markdown",
   "metadata": {},
   "source": [
    "### Review\n",
    "\n",
    "####Just as you did with the Citi Bike data, go through the the sequence of temperature readings and calculate the change between days and find the greatest range in high temperatures in the month you measured. Which city had the greatest variation? What is the distribution of the difference? Does the result surprise you? Why or why not?\n",
    "\n",
    "The greatest change between days was 5.06 in Sioux Falls. The city with the greatest range was Tipton, but with Sioux Falls a close second. Greatest Variation was Sioux Falls.\n",
    "\n",
    "\n"
   ]
  },
  {
   "cell_type": "markdown",
   "metadata": {},
   "source": [
    "####Extra\n",
    "\n",
    "Trying to get the code to loop through and find max range for each column..."
   ]
  },
  {
   "cell_type": "markdown",
   "metadata": {},
   "source": [
    "### for col in df.columns:\n",
    "    temp_id = col[:]\n",
    "    print('The Temp ids are:', temp_id)\n",
    "    temp_vals = df[col].tolist()\n",
    "    print('The temp vals are: ',temp_vals)\n",
    "    temp_change = 0\n",
    "\n",
    "    for k,v in enumerate(temp_vals):\n",
    "        max_temp = 0\n",
    "        min_temp = 200\n",
    "        if k < len(temp_vals) - 1:\n",
    "            temp_change = abs(temp_vals[k] - temp_vals[k+1])\n",
    "            print('The temp_change is: ',temp_change)\n",
    "    if v > max_temp:\n",
    "        max_temp = v\n",
    "        print('max temp equals', max_temp)\n",
    "    if v < min_temp:\n",
    "        min_temp = v\n",
    "        print('min temp equals', min_temp)\n",
    "    max_range = max_temp - min_temp\n",
    "    print('The max range is:', max_range)\n",
    "        \n",
    "    day_change[(temp_id)] = temp_change \n",
    "    print('The day_change is:',day_change)"
   ]
  },
  {
   "cell_type": "code",
   "execution_count": null,
   "metadata": {
    "collapsed": true
   },
   "outputs": [],
   "source": []
  }
 ],
 "metadata": {
  "kernelspec": {
   "display_name": "Python 3",
   "language": "python",
   "name": "python3"
  },
  "language_info": {
   "codemirror_mode": {
    "name": "ipython",
    "version": 3
   },
   "file_extension": ".py",
   "mimetype": "text/x-python",
   "name": "python",
   "nbconvert_exporter": "python",
   "pygments_lexer": "ipython3",
   "version": "3.4.3"
  }
 },
 "nbformat": 4,
 "nbformat_minor": 0
}
