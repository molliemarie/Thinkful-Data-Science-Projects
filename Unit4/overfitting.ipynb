{
 "cells": [
  {
   "cell_type": "markdown",
   "metadata": {},
   "source": [
    "#Thinkful Data Science Course\n",
    "##Unit 4: Predicting the Future; Lesson 1: Making Predictions\n",
    "##Fitting and Overfitting\n",
    "\n",
    "Now it's your turn. Use the following code to generate a toy regression dataset, and split the data into 70% training and 30% testing data. Using mean squared error as a metric, compare the performance of different polynomial curves in the training set and in the testing set. Submit your project as overfitting.py"
   ]
  },
  {
   "cell_type": "code",
   "execution_count": 1,
   "metadata": {
    "collapsed": false
   },
   "outputs": [],
   "source": [
    "import numpy as np\n",
    "import statsmodels.formula.api as smf\n",
    "import pandas as pd\n",
    "\n",
    "# Set seed for reproducible results\n",
    "np.random.seed(414)\n",
    "\n",
    "# Gen toy data\n",
    "X = np.linspace(0, 15, 1000)\n",
    "y = 3 * np.sin(X) + np.random.normal(1 + X, .2, 1000)\n",
    "\n",
    "train_X, train_y = X[:700], y[:700]\n",
    "test_X, test_y = X[700:], y[700:]\n",
    "\n",
    "train_df = pd.DataFrame({'X': train_X, 'y': train_y})\n",
    "test_df = pd.DataFrame({'X': test_X, 'y': test_y})"
   ]
  },
  {
   "cell_type": "code",
   "execution_count": 2,
   "metadata": {
    "collapsed": true
   },
   "outputs": [],
   "source": [
    "# Linear Fit\n",
    "poly_1 = smf.ols(formula='y ~ 1 + X', data=train_df).fit()"
   ]
  },
  {
   "cell_type": "code",
   "execution_count": 3,
   "metadata": {
    "collapsed": true
   },
   "outputs": [],
   "source": [
    "pred = poly_1.predict(test_df)"
   ]
  },
  {
   "cell_type": "code",
   "execution_count": 4,
   "metadata": {
    "collapsed": false
   },
   "outputs": [
    {
     "data": {
      "text/plain": [
       "array([ 11.34605278,  11.35941012,  11.37276745,  11.38612479,\n",
       "        11.39948213,  11.41283947,  11.4261968 ,  11.43955414,\n",
       "        11.45291148,  11.46626882,  11.47962616,  11.49298349,\n",
       "        11.50634083,  11.51969817,  11.53305551,  11.54641284,\n",
       "        11.55977018,  11.57312752,  11.58648486,  11.59984219,\n",
       "        11.61319953,  11.62655687,  11.63991421,  11.65327154,\n",
       "        11.66662888,  11.67998622,  11.69334356,  11.7067009 ,\n",
       "        11.72005823,  11.73341557,  11.74677291,  11.76013025,\n",
       "        11.77348758,  11.78684492,  11.80020226,  11.8135596 ,\n",
       "        11.82691693,  11.84027427,  11.85363161,  11.86698895,\n",
       "        11.88034629,  11.89370362,  11.90706096,  11.9204183 ,\n",
       "        11.93377564,  11.94713297,  11.96049031,  11.97384765,\n",
       "        11.98720499,  12.00056232,  12.01391966,  12.027277  ,\n",
       "        12.04063434,  12.05399168,  12.06734901,  12.08070635,\n",
       "        12.09406369,  12.10742103,  12.12077836,  12.1341357 ,\n",
       "        12.14749304,  12.16085038,  12.17420771,  12.18756505,\n",
       "        12.20092239,  12.21427973,  12.22763706,  12.2409944 ,\n",
       "        12.25435174,  12.26770908,  12.28106642,  12.29442375,\n",
       "        12.30778109,  12.32113843,  12.33449577,  12.3478531 ,\n",
       "        12.36121044,  12.37456778,  12.38792512,  12.40128245,\n",
       "        12.41463979,  12.42799713,  12.44135447,  12.45471181,\n",
       "        12.46806914,  12.48142648,  12.49478382,  12.50814116,\n",
       "        12.52149849,  12.53485583,  12.54821317,  12.56157051,\n",
       "        12.57492784,  12.58828518,  12.60164252,  12.61499986,\n",
       "        12.6283572 ,  12.64171453,  12.65507187,  12.66842921,\n",
       "        12.68178655,  12.69514388,  12.70850122,  12.72185856,\n",
       "        12.7352159 ,  12.74857323,  12.76193057,  12.77528791,\n",
       "        12.78864525,  12.80200259,  12.81535992,  12.82871726,\n",
       "        12.8420746 ,  12.85543194,  12.86878927,  12.88214661,\n",
       "        12.89550395,  12.90886129,  12.92221862,  12.93557596,\n",
       "        12.9489333 ,  12.96229064,  12.97564797,  12.98900531,\n",
       "        13.00236265,  13.01571999,  13.02907733,  13.04243466,\n",
       "        13.055792  ,  13.06914934,  13.08250668,  13.09586401,\n",
       "        13.10922135,  13.12257869,  13.13593603,  13.14929336,\n",
       "        13.1626507 ,  13.17600804,  13.18936538,  13.20272272,\n",
       "        13.21608005,  13.22943739,  13.24279473,  13.25615207,\n",
       "        13.2695094 ,  13.28286674,  13.29622408,  13.30958142,\n",
       "        13.32293875,  13.33629609,  13.34965343,  13.36301077,\n",
       "        13.37636811,  13.38972544,  13.40308278,  13.41644012,\n",
       "        13.42979746,  13.44315479,  13.45651213,  13.46986947,\n",
       "        13.48322681,  13.49658414,  13.50994148,  13.52329882,\n",
       "        13.53665616,  13.55001349,  13.56337083,  13.57672817,\n",
       "        13.59008551,  13.60344285,  13.61680018,  13.63015752,\n",
       "        13.64351486,  13.6568722 ,  13.67022953,  13.68358687,\n",
       "        13.69694421,  13.71030155,  13.72365888,  13.73701622,\n",
       "        13.75037356,  13.7637309 ,  13.77708824,  13.79044557,\n",
       "        13.80380291,  13.81716025,  13.83051759,  13.84387492,\n",
       "        13.85723226,  13.8705896 ,  13.88394694,  13.89730427,\n",
       "        13.91066161,  13.92401895,  13.93737629,  13.95073363,\n",
       "        13.96409096,  13.9774483 ,  13.99080564,  14.00416298,\n",
       "        14.01752031,  14.03087765,  14.04423499,  14.05759233,\n",
       "        14.07094966,  14.084307  ,  14.09766434,  14.11102168,\n",
       "        14.12437901,  14.13773635,  14.15109369,  14.16445103,\n",
       "        14.17780837,  14.1911657 ,  14.20452304,  14.21788038,\n",
       "        14.23123772,  14.24459505,  14.25795239,  14.27130973,\n",
       "        14.28466707,  14.2980244 ,  14.31138174,  14.32473908,\n",
       "        14.33809642,  14.35145376,  14.36481109,  14.37816843,\n",
       "        14.39152577,  14.40488311,  14.41824044,  14.43159778,\n",
       "        14.44495512,  14.45831246,  14.47166979,  14.48502713,\n",
       "        14.49838447,  14.51174181,  14.52509915,  14.53845648,\n",
       "        14.55181382,  14.56517116,  14.5785285 ,  14.59188583,\n",
       "        14.60524317,  14.61860051,  14.63195785,  14.64531518,\n",
       "        14.65867252,  14.67202986,  14.6853872 ,  14.69874454,\n",
       "        14.71210187,  14.72545921,  14.73881655,  14.75217389,\n",
       "        14.76553122,  14.77888856,  14.7922459 ,  14.80560324,\n",
       "        14.81896057,  14.83231791,  14.84567525,  14.85903259,\n",
       "        14.87238992,  14.88574726,  14.8991046 ,  14.91246194,\n",
       "        14.92581928,  14.93917661,  14.95253395,  14.96589129,\n",
       "        14.97924863,  14.99260596,  15.0059633 ,  15.01932064,\n",
       "        15.03267798,  15.04603531,  15.05939265,  15.07274999,\n",
       "        15.08610733,  15.09946467,  15.112822  ,  15.12617934,\n",
       "        15.13953668,  15.15289402,  15.16625135,  15.17960869,\n",
       "        15.19296603,  15.20632337,  15.2196807 ,  15.23303804,\n",
       "        15.24639538,  15.25975272,  15.27311006,  15.28646739,\n",
       "        15.29982473,  15.31318207,  15.32653941,  15.33989674])"
      ]
     },
     "execution_count": 4,
     "metadata": {},
     "output_type": "execute_result"
    }
   ],
   "source": [
    "pred"
   ]
  },
  {
   "cell_type": "code",
   "execution_count": 5,
   "metadata": {
    "collapsed": true
   },
   "outputs": [],
   "source": [
    "actual = np.array(test_df['y'].tolist())"
   ]
  },
  {
   "cell_type": "code",
   "execution_count": 6,
   "metadata": {
    "collapsed": false
   },
   "outputs": [
    {
     "data": {
      "text/plain": [
       "array([  9.11355686,   8.79806467,   8.9313485 ,   9.04773388,\n",
       "         8.65909466,   9.11519643,   8.96686064,   8.94742599,\n",
       "         8.76116573,   8.57031857,   8.54221085,   8.84084919,\n",
       "         8.68558964,   9.11676948,   9.01326327,   8.64533076,\n",
       "         8.95665168,   8.91117216,   8.49608993,   8.86791681,\n",
       "         8.9365543 ,   8.82984015,   9.05243769,   8.63067848,\n",
       "         8.8283513 ,   8.99550006,   8.73583869,   9.04191238,\n",
       "         8.61312444,   8.49831794,   8.60425784,   9.07859536,\n",
       "         9.40423353,   8.83186679,   8.90617173,   9.03933547,\n",
       "         9.14214397,   9.28679145,   9.4477728 ,   9.08270999,\n",
       "         8.97105014,   9.02831612,   9.01271953,   8.73272281,\n",
       "         9.477346  ,   9.2343554 ,   9.27133816,   9.19043422,\n",
       "         9.21479079,   9.24396465,   9.43891631,   9.04300428,\n",
       "         9.42446634,   9.61860665,   9.55746811,   9.6253561 ,\n",
       "         9.38501677,   9.42592119,   9.29303562,   9.72044866,\n",
       "         9.83152674,   9.83701568,   9.540746  ,   9.76983419,\n",
       "         9.75756532,  10.00231158,   9.46086691,   9.79179735,\n",
       "        10.29434853,   9.69510326,   9.85496034,  10.08673495,\n",
       "        10.27936696,  10.04872078,  10.12713876,  10.15839925,\n",
       "        10.39255741,  10.14026982,  10.31714455,  10.49502133,\n",
       "        10.4531641 ,  10.89602916,  10.49641584,  10.59598718,\n",
       "        10.71742807,  10.3455381 ,  10.59362738,  10.69538111,\n",
       "        10.62766054,  10.73632415,  10.7765816 ,  11.00299194,\n",
       "        11.11182078,  11.45130081,  10.61130319,  11.43907651,\n",
       "        11.26724328,  11.41728646,  11.06384926,  11.17265771,\n",
       "        11.45063556,  11.17257337,  11.85519611,  11.37730899,\n",
       "        11.50827955,  11.63099264,  11.94849939,  11.54926321,\n",
       "        12.04800138,  11.73267097,  11.81827302,  12.07519297,\n",
       "        12.0382154 ,  12.35614792,  12.31417327,  12.30612674,\n",
       "        12.50369503,  12.6519012 ,  12.29927487,  12.59004054,\n",
       "        12.13347626,  12.66180958,  12.43607161,  12.62918343,\n",
       "        12.76644429,  12.5087771 ,  12.75634351,  12.70640282,\n",
       "        12.89087288,  13.01080946,  13.29990093,  13.31715975,\n",
       "        13.11251916,  13.53633603,  13.56070965,  13.35918307,\n",
       "        13.25168522,  13.37825444,  13.70827865,  13.52296375,\n",
       "        13.85770955,  14.16936655,  13.29723662,  13.89681632,\n",
       "        13.76941389,  13.84843559,  13.73173386,  14.42734058,\n",
       "        14.42206253,  14.47676825,  14.49678388,  14.77919359,\n",
       "        14.7423061 ,  14.66436347,  14.80960026,  14.5970024 ,\n",
       "        14.5591037 ,  14.73003441,  14.36045108,  14.98347416,\n",
       "        14.80614127,  15.03227299,  14.91038317,  15.09410177,\n",
       "        15.07980196,  15.7577018 ,  14.98193199,  15.4491401 ,\n",
       "        15.62482   ,  15.38758034,  15.85278487,  15.78627597,\n",
       "        15.2190443 ,  15.47889039,  15.86696031,  15.77505662,\n",
       "        15.98588604,  15.93011367,  15.92491894,  15.92672664,\n",
       "        16.28058527,  15.75337042,  15.96720585,  16.58252324,\n",
       "        15.80477289,  16.27971318,  16.30778747,  16.31770631,\n",
       "        16.11808534,  16.35291234,  16.33147743,  16.71675031,\n",
       "        16.60922829,  16.65383368,  17.1049722 ,  16.89991238,\n",
       "        16.71015697,  16.8440539 ,  16.81021942,  16.83123328,\n",
       "        17.07712875,  17.16853641,  17.0607986 ,  17.26987769,\n",
       "        17.26111844,  17.20719192,  17.01868231,  17.41381073,\n",
       "        17.29913762,  17.3753224 ,  17.67160229,  17.55901083,\n",
       "        17.34070284,  16.86432064,  17.51389607,  17.1674058 ,\n",
       "        17.88721669,  17.89021232,  17.59423529,  17.8658134 ,\n",
       "        17.61726572,  17.48412803,  17.78590992,  17.75157524,\n",
       "        17.73875689,  17.96382457,  17.81810331,  18.11043697,\n",
       "        18.05780423,  17.76920896,  18.01067926,  17.80698325,\n",
       "        18.28919438,  17.84303726,  18.02684163,  17.78993153,\n",
       "        17.7514755 ,  18.42171528,  18.27259503,  18.31689534,\n",
       "        18.12761367,  17.79730898,  17.94716732,  18.43937017,\n",
       "        18.13218271,  18.14351132,  18.10236455,  17.85583473,\n",
       "        18.41127623,  18.66338865,  18.06394012,  18.16378857,\n",
       "        18.44945961,  18.2427963 ,  18.29315249,  17.96409473,\n",
       "        18.30865346,  18.0470472 ,  17.95012824,  18.60626734,\n",
       "        18.49518938,  18.59183567,  18.32614912,  18.31242104,\n",
       "        18.43372538,  18.4623404 ,  18.54916584,  18.45114582,\n",
       "        17.94454597,  18.5032173 ,  18.31972293,  18.16479537,\n",
       "        18.38146808,  18.05085421,  18.02242005,  18.26317867,\n",
       "        18.53060812,  18.34648778,  18.36802094,  18.12784568,\n",
       "        18.32937567,  18.22371918,  18.40896757,  18.46141479,\n",
       "        18.27313171,  18.05297894,  18.0963448 ,  17.91750616,\n",
       "        18.28022259,  18.10507272,  18.36508031,  18.38015269,\n",
       "        18.04644247,  17.77768035,  18.2023605 ,  17.68087404,\n",
       "        17.96392985,  18.08949033,  17.9199289 ,  18.13228068])"
      ]
     },
     "execution_count": 6,
     "metadata": {},
     "output_type": "execute_result"
    }
   ],
   "source": [
    "actual"
   ]
  },
  {
   "cell_type": "code",
   "execution_count": 7,
   "metadata": {
    "collapsed": true
   },
   "outputs": [],
   "source": [
    "from sklearn.metrics import mean_squared_error"
   ]
  },
  {
   "cell_type": "code",
   "execution_count": 8,
   "metadata": {
    "collapsed": true
   },
   "outputs": [],
   "source": [
    "mse = mean_squared_error(actual,pred)"
   ]
  },
  {
   "cell_type": "code",
   "execution_count": 9,
   "metadata": {
    "collapsed": false
   },
   "outputs": [
    {
     "name": "stdout",
     "output_type": "stream",
     "text": [
      "The Mean Squared Error of Linear Fit is 6.54754127446\n"
     ]
    }
   ],
   "source": [
    "print('The Mean Squared Error of Linear Fit is', mse)"
   ]
  },
  {
   "cell_type": "code",
   "execution_count": 10,
   "metadata": {
    "collapsed": true
   },
   "outputs": [],
   "source": [
    "# Quadratic Fit\n",
    "poly_2 = smf.ols(formula='y ~ 1 + X + I(X**2)', data=train_df).fit()"
   ]
  },
  {
   "cell_type": "code",
   "execution_count": 11,
   "metadata": {
    "collapsed": true
   },
   "outputs": [],
   "source": [
    "pred2 = poly_2.predict(test_df)"
   ]
  },
  {
   "cell_type": "code",
   "execution_count": 12,
   "metadata": {
    "collapsed": true
   },
   "outputs": [
    {
     "data": {
      "text/plain": [
       "array([ 12.50583782,  12.52912199,  12.55243444,  12.57577518,\n",
       "        12.59914419,  12.62254149,  12.64596707,  12.66942093,\n",
       "        12.69290307,  12.7164135 ,  12.7399522 ,  12.76351919,\n",
       "        12.78711446,  12.81073801,  12.83438984,  12.85806995,\n",
       "        12.88177835,  12.90551502,  12.92927998,  12.95307322,\n",
       "        12.97689474,  13.00074454,  13.02462263,  13.04852899,\n",
       "        13.07246364,  13.09642657,  13.12041778,  13.14443727,\n",
       "        13.16848505,  13.1925611 ,  13.21666544,  13.24079806,\n",
       "        13.26495896,  13.28914814,  13.3133656 ,  13.33761135,\n",
       "        13.36188537,  13.38618768,  13.41051827,  13.43487714,\n",
       "        13.45926429,  13.48367973,  13.50812344,  13.53259544,\n",
       "        13.55709572,  13.58162428,  13.60618112,  13.63076625,\n",
       "        13.65537965,  13.68002134,  13.70469131,  13.72938956,\n",
       "        13.75411609,  13.7788709 ,  13.803654  ,  13.82846537,\n",
       "        13.85330503,  13.87817297,  13.90306919,  13.92799369,\n",
       "        13.95294648,  13.97792754,  14.00293689,  14.02797452,\n",
       "        14.05304043,  14.07813462,  14.1032571 ,  14.12840785,\n",
       "        14.15358689,  14.17879421,  14.20402981,  14.22929369,\n",
       "        14.25458585,  14.2799063 ,  14.30525502,  14.33063203,\n",
       "        14.35603732,  14.38147089,  14.40693274,  14.43242288,\n",
       "        14.45794129,  14.48348799,  14.50906297,  14.53466623,\n",
       "        14.56029777,  14.58595759,  14.6116457 ,  14.63736209,\n",
       "        14.66310675,  14.6888797 ,  14.71468094,  14.74051045,\n",
       "        14.76636824,  14.79225432,  14.81816868,  14.84411132,\n",
       "        14.87008224,  14.89608144,  14.92210892,  14.94816469,\n",
       "        14.97424874,  15.00036107,  15.02650168,  15.05267057,\n",
       "        15.07886774,  15.1050932 ,  15.13134693,  15.15762895,\n",
       "        15.18393925,  15.21027783,  15.2366447 ,  15.26303984,\n",
       "        15.28946327,  15.31591498,  15.34239496,  15.36890324,\n",
       "        15.39543979,  15.42200462,  15.44859774,  15.47521913,\n",
       "        15.50186881,  15.52854677,  15.55525302,  15.58198754,\n",
       "        15.60875034,  15.63554143,  15.6623608 ,  15.68920845,\n",
       "        15.71608438,  15.74298859,  15.76992109,  15.79688186,\n",
       "        15.82387092,  15.85088826,  15.87793388,  15.90500778,\n",
       "        15.93210997,  15.95924043,  15.98639918,  16.01358621,\n",
       "        16.04080152,  16.06804511,  16.09531699,  16.12261714,\n",
       "        16.14994558,  16.17730229,  16.20468729,  16.23210058,\n",
       "        16.25954214,  16.28701198,  16.31451011,  16.34203652,\n",
       "        16.36959121,  16.39717418,  16.42478543,  16.45242496,\n",
       "        16.48009278,  16.50778888,  16.53551325,  16.56326592,\n",
       "        16.59104686,  16.61885608,  16.64669359,  16.67455937,\n",
       "        16.70245344,  16.73037579,  16.75832642,  16.78630533,\n",
       "        16.81431253,  16.842348  ,  16.87041176,  16.8985038 ,\n",
       "        16.92662412,  16.95477272,  16.98294961,  17.01115477,\n",
       "        17.03938822,  17.06764995,  17.09593996,  17.12425825,\n",
       "        17.15260482,  17.18097968,  17.20938282,  17.23781423,\n",
       "        17.26627393,  17.29476192,  17.32327818,  17.35182272,\n",
       "        17.38039555,  17.40899666,  17.43762605,  17.46628372,\n",
       "        17.49496967,  17.5236839 ,  17.55242642,  17.58119721,\n",
       "        17.60999629,  17.63882365,  17.66767929,  17.69656322,\n",
       "        17.72547542,  17.75441591,  17.78338468,  17.81238173,\n",
       "        17.84140706,  17.87046067,  17.89954257,  17.92865274,\n",
       "        17.9577912 ,  17.98695794,  18.01615296,  18.04537626,\n",
       "        18.07462785,  18.10390771,  18.13321586,  18.16255229,\n",
       "        18.191917  ,  18.22130999,  18.25073126,  18.28018082,\n",
       "        18.30965865,  18.33916477,  18.36869917,  18.39826185,\n",
       "        18.42785281,  18.45747206,  18.48711958,  18.51679539,\n",
       "        18.54649948,  18.57623185,  18.6059925 ,  18.63578144,\n",
       "        18.66559865,  18.69544415,  18.72531793,  18.75521999,\n",
       "        18.78515033,  18.81510895,  18.84509586,  18.87511104,\n",
       "        18.90515451,  18.93522626,  18.96532629,  18.99545461,\n",
       "        19.0256112 ,  19.05579608,  19.08600923,  19.11625067,\n",
       "        19.14652039,  19.1768184 ,  19.20714468,  19.23749924,\n",
       "        19.26788209,  19.29829322,  19.32873263,  19.35920032,\n",
       "        19.38969629,  19.42022055,  19.45077309,  19.4813539 ,\n",
       "        19.511963  ,  19.54260038,  19.57326605,  19.60395999,\n",
       "        19.63468222,  19.66543272,  19.69621151,  19.72701858,\n",
       "        19.75785394,  19.78871757,  19.81960949,  19.85052968,\n",
       "        19.88147816,  19.91245492,  19.94345996,  19.97449329,\n",
       "        20.00555489,  20.03664478,  20.06776294,  20.09890939,\n",
       "        20.13008412,  20.16128714,  20.19251843,  20.22377801,\n",
       "        20.25506586,  20.286382  ,  20.31772642,  20.34909913,\n",
       "        20.38050011,  20.41192937,  20.44338692,  20.47487275,\n",
       "        20.50638686,  20.53792925,  20.56949992,  20.60109888,\n",
       "        20.63272612,  20.66438163,  20.69606543,  20.72777751])"
      ]
     },
     "execution_count": 12,
     "metadata": {},
     "output_type": "execute_result"
    }
   ],
   "source": [
    "pred2"
   ]
  },
  {
   "cell_type": "code",
   "execution_count": 13,
   "metadata": {
    "collapsed": true
   },
   "outputs": [],
   "source": [
    "mse2 = mean_squared_error(actual,pred2)"
   ]
  },
  {
   "cell_type": "code",
   "execution_count": 14,
   "metadata": {
    "collapsed": false
   },
   "outputs": [
    {
     "name": "stdout",
     "output_type": "stream",
     "text": [
      "The Mean Squared Error of Quadratic Fit is 7.98738294501\n"
     ]
    }
   ],
   "source": [
    "print('The Mean Squared Error of Quadratic Fit is', mse2)"
   ]
  },
  {
   "cell_type": "code",
   "execution_count": 15,
   "metadata": {
    "collapsed": false
   },
   "outputs": [],
   "source": [
    "poly_3 = smf.ols(formula = 'y ~ 1 + X + I(X**2) + I(X**3)', data=train_df).fit()"
   ]
  },
  {
   "cell_type": "code",
   "execution_count": 16,
   "metadata": {
    "collapsed": true
   },
   "outputs": [],
   "source": [
    "pred3 = poly_3.predict(test_df)"
   ]
  },
  {
   "cell_type": "code",
   "execution_count": 17,
   "metadata": {
    "collapsed": true
   },
   "outputs": [],
   "source": [
    "mse3 = mean_squared_error(actual,pred3)"
   ]
  },
  {
   "cell_type": "code",
   "execution_count": 18,
   "metadata": {
    "collapsed": false
   },
   "outputs": [
    {
     "name": "stdout",
     "output_type": "stream",
     "text": [
      "The Mean Squared Error of Cubic Fit is 199.654810444\n"
     ]
    }
   ],
   "source": [
    "print('The Mean Squared Error of Cubic Fit is', mse3)"
   ]
  },
  {
   "cell_type": "code",
   "execution_count": 22,
   "metadata": {
    "collapsed": false
   },
   "outputs": [
    {
     "data": {
      "text/plain": [
       "(300,)"
      ]
     },
     "execution_count": 22,
     "metadata": {},
     "output_type": "execute_result"
    }
   ],
   "source": [
    "pred.shape"
   ]
  },
  {
   "cell_type": "code",
   "execution_count": 24,
   "metadata": {
    "collapsed": false
   },
   "outputs": [
    {
     "data": {
      "text/plain": [
       "(700,)"
      ]
     },
     "execution_count": 24,
     "metadata": {},
     "output_type": "execute_result"
    }
   ],
   "source": [
    "train_X.shape"
   ]
  },
  {
   "cell_type": "code",
   "execution_count": 30,
   "metadata": {
    "collapsed": false
   },
   "outputs": [
    {
     "data": {
      "image/png": "[encoded data removed]",
      "text/plain": [
       "<matplotlib.figure.Figure at 0x10efdf358>"
      ]
     },
     "metadata": {},
     "output_type": "display_data"
    }
   ],
   "source": [
    "import matplotlib.pyplot as plt\n",
    "%matplotlib inline\n",
    "plt.figure()\n",
    "plt.scatter(test_X, test_y)\n",
    "plt.xlabel('test_X')\n",
    "plt.ylabel('test_y')\n",
    "plt.plot(test_X, pred, 'b-', label='Poly n=1')\n",
    "plt.plot(test_X, pred2, 'g-', label='Poly n=2')\n",
    "plt.plot(test_X, pred3, 'r-', label='Poly n=3')\n",
    "# plt.plot(poly_1, 'b-', label='Poly n=1')\n",
    "# plt.plot(poly_2, 'g-', label='Poly n=2')\n",
    "# plt.plot(poly_3, 'r-', label='Poly n=3')\n",
    "plt.show('overfitting.png')"
   ]
  },
  {
   "cell_type": "code",
   "execution_count": null,
   "metadata": {
    "collapsed": true
   },
   "outputs": [],
   "source": []
  },
  {
   "cell_type": "code",
   "execution_count": null,
   "metadata": {
    "collapsed": true
   },
   "outputs": [],
   "source": []
  }
 ],
 "metadata": {
  "kernelspec": {
   "display_name": "Python 3",
   "language": "python",
   "name": "python3"
  },
  "language_info": {
   "codemirror_mode": {
    "name": "ipython",
    "version": 3
   },
   "file_extension": ".py",
   "mimetype": "text/x-python",
   "name": "python",
   "nbconvert_exporter": "python",
   "pygments_lexer": "ipython3",
   "version": "3.4.3"
  }
 },
 "nbformat": 4,
 "nbformat_minor": 0
}
