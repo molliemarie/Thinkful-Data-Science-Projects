{
 "cells": [
  {
   "cell_type": "markdown",
   "metadata": {},
   "source": [
    "#Thinkful Data Science Course\n",
    "##Unit 4: Predicting the Future; Lesson 1: Making Predictions\n",
    "##Metrics and Cross-Validation"
   ]
  },
  {
   "cell_type": "markdown",
   "metadata": {},
   "source": [
    "1) Take the loan data you used previously to build your linear regression model.\n",
    "\n",
    "2) Break the data-set into 10 segments following the example provided here in KFold (http://scikit-learn.org/stable/modules/cross_validation.html#cross-validation-iterators).\n",
    "\n",
    "3) Compute each of the performance metric (MAE, MSE or R2) for all the folds. The average would be the performance of your model.\n",
    "\n",
    "4) Comment on each of the performance metric you obtained."
   ]
  },
  {
   "cell_type": "markdown",
   "metadata": {},
   "source": [
    "###1) Take the loan data you used previously to build your linear regression model."
   ]
  },
  {
   "cell_type": "code",
   "execution_count": 1,
   "metadata": {
    "collapsed": true
   },
   "outputs": [],
   "source": [
    "import pandas as pd\n",
    "import matplotlib.pyplot as plt\n",
    "import numpy as np\n",
    "import statsmodels.api as sm\n",
    "\n",
    "# Import data\n",
    "loansData = pd.read_csv('https://spark-public.s3.amazonaws.com/dataanalysis/loansData.csv')"
   ]
  },
  {
   "cell_type": "code",
   "execution_count": 2,
   "metadata": {
    "collapsed": true
   },
   "outputs": [],
   "source": [
    "# Split into numbers - will return in form [###, ###]\n",
    "cleanFICORange = loansData['FICO.Range'].map(lambda x: x.split('-'))"
   ]
  },
  {
   "cell_type": "code",
   "execution_count": 3,
   "metadata": {
    "collapsed": true
   },
   "outputs": [],
   "source": [
    "# We have a string inside a list. Need to convert each string to integer\n",
    "# To do this, we use a list comprehension\n",
    "# We could either choose the first element, last element, or an average value\n",
    "# The \"[0]\" at the end makes it so that we only choose the first element\n",
    "cleanFICOScore = cleanFICORange.map(lambda x: [int(n) for n in x][0])"
   ]
  },
  {
   "cell_type": "code",
   "execution_count": 4,
   "metadata": {
    "collapsed": true
   },
   "outputs": [],
   "source": [
    "# According to Thinkful, to understand better, check out: http://carlgroner.me/Python/2011/11/09/An-Introduction-to-List-Comprehensions-in-Python.html\n",
    "\n",
    "# Assign cleaned score to new column called \"FICO.Score\"\n",
    "loansData['FICO.Score'] = cleanFICOScore"
   ]
  },
  {
   "cell_type": "code",
   "execution_count": 5,
   "metadata": {
    "collapsed": true
   },
   "outputs": [],
   "source": [
    "# CLEAN INTEREST RATE DATA\n",
    "clean_ir = loansData[\"Interest.Rate\"].map(lambda x: round(float(x.rstrip(\"%\"))/100, 4))\n",
    "loansData[\"Interest.Rate\"] = clean_ir"
   ]
  },
  {
   "cell_type": "code",
   "execution_count": 6,
   "metadata": {
    "collapsed": true
   },
   "outputs": [],
   "source": [
    "# CLEAN LOAN LENGTH DATA\n",
    "clean_loanLength = loansData[\"Loan.Length\"].map(lambda x: float(x.rstrip(\"months\")))\n",
    "loansData[\"Loan.Length\"] = clean_loanLength"
   ]
  },
  {
   "cell_type": "markdown",
   "metadata": {},
   "source": [
    "####Linear Regression Model"
   ]
  },
  {
   "cell_type": "code",
   "execution_count": 7,
   "metadata": {
    "collapsed": true
   },
   "outputs": [],
   "source": [
    "# Linear regression model: \n",
    "# InterestRate = b + a1(FICOScore) + a2(LoanAmount)\n",
    "\n",
    "intrate = loansData['Interest.Rate']\n",
    "loanamt = loansData['Amount.Requested']\n",
    "fico = loansData['FICO.Score']\n",
    "\n",
    "# Create y and x variables\n",
    "# The dependent variable\n",
    "y = np.matrix(intrate).transpose()\n",
    "# The independent variables shaped as columns\n",
    "x1 = np.matrix(fico).transpose()\n",
    "x2 = np.matrix(loanamt).transpose()\n",
    "# put the two columns together to create an input matrix \n",
    "x = np.column_stack([x1,x2])\n",
    "\n",
    "# # Create linear model\n",
    "# X = sm.add_constant(x)\n",
    "# model = sm.OLS(y,X)\n",
    "# f = model.fit()"
   ]
  },
  {
   "cell_type": "code",
   "execution_count": 8,
   "metadata": {
    "collapsed": true
   },
   "outputs": [],
   "source": [
    "# coeff = f.params"
   ]
  },
  {
   "cell_type": "code",
   "execution_count": 9,
   "metadata": {
    "collapsed": false
   },
   "outputs": [],
   "source": [
    "# # plot:\n",
    "# line=[]\n",
    "# line2 = []\n",
    "# for j in fico:\n",
    "# \tline.append(coeff[0] + coeff[1]*j + coeff[2]*10000)\n",
    "# \tline2.append(coeff[0] + coeff[1]*j + coeff[2]*30000)\n",
    "\n",
    "# plt.close()\n",
    "# plt.scatter(fico,intrate)\n",
    "# plt.hold(True)\n",
    "# plt.plot(fico, line, label = '$10,000 Requested', color = 'blue')\n",
    "# plt.plot(fico, line2, label = '$30,000 Requested', color = 'green')\n",
    "# plt.legend(loc = 'upper right')\n",
    "# plt.ylabel('Interest Rate in %')\n",
    "# plt.xlabel('FICO Score')\n",
    "# plt.savefig('Fico_Scatter_10000&30000.png')\n",
    "\n",
    "# # Load to new CSV file\n",
    "# # loansData.to_csv('loansData_clean.csv', header=True, index=False)"
   ]
  },
  {
   "cell_type": "markdown",
   "metadata": {},
   "source": [
    "###2) Break the data-set into 10 segments following the example provided here in KFold"
   ]
  },
  {
   "cell_type": "code",
   "execution_count": 10,
   "metadata": {
    "collapsed": false
   },
   "outputs": [
    {
     "data": {
      "text/plain": [
       "2500"
      ]
     },
     "execution_count": 10,
     "metadata": {},
     "output_type": "execute_result"
    }
   ],
   "source": [
    "len(fico)"
   ]
  },
  {
   "cell_type": "code",
   "execution_count": 12,
   "metadata": {
    "collapsed": true
   },
   "outputs": [],
   "source": [
    "from sklearn import datasets, linear_model, cross_validation, grid_search\n"
   ]
  },
  {
   "cell_type": "markdown",
   "metadata": {},
   "source": [
    "###3) Compute each of the performance metric (MAE, MSE or R2) for all the folds. The average would be the performance of your model."
   ]
  },
  {
   "cell_type": "code",
   "execution_count": 13,
   "metadata": {
    "collapsed": true
   },
   "outputs": [],
   "source": [
    "from sklearn.metrics import mean_squared_error\n",
    "from sklearn.metrics import mean_absolute_error\n",
    "from sklearn.metrics import r2_score"
   ]
  },
  {
   "cell_type": "markdown",
   "metadata": {
    "collapsed": true
   },
   "source": [
    "print y_test will give a matrix and not an array, but y_predict is an array not a matrix. Should put them in the same format. Used np.squeeze to convert matrix to an array.\n",
    "\n",
    "fitted y=mx, not y=mx+c"
   ]
  },
  {
   "cell_type": "code",
   "execution_count": 19,
   "metadata": {
    "collapsed": false
   },
   "outputs": [],
   "source": [
    "kf = cross_validation.KFold(len(fico), n_folds=10)\n",
    "r2 = []\n",
    "mae = []\n",
    "mse = []\n",
    "for train_index, test_index in kf:\n",
    "#     print(\"TRAIN:\", train_index, \"TEST:\", test_index)\n",
    "    X_train, X_test = x[train_index], x[test_index]\n",
    "    y_train, y_test = y[train_index], y[test_index]\n",
    "    model = sm.OLS(y_train,X_train)\n",
    "    f = model.fit()\n",
    "    y_pred = f.predict(X_test)\n",
    "    r2.append(r2_score(np.squeeze(np.asarray(y_test)), y_pred))\n",
    "    mse.append(mean_squared_error(np.squeeze(np.asarray(y_test)), y_pred))\n",
    "    mae.append(mean_absolute_error(np.squeeze(np.asarray(y_test)), y_pred))\n",
    "\n"
   ]
  },
  {
   "cell_type": "markdown",
   "metadata": {},
   "source": [
    "Example of K-Fold from https://www.quantstart.com/articles/Using-Cross-Validation-to-Optimise-a-Machine-Learning-Method-The-Regression-Setting"
   ]
  },
  {
   "cell_type": "code",
   "execution_count": 20,
   "metadata": {
    "collapsed": false
   },
   "outputs": [
    {
     "data": {
      "text/plain": [
       "[0.037454274823712143,\n",
       " 0.035980360501116332,\n",
       " 0.034239738510165395,\n",
       " 0.035191335143468026,\n",
       " 0.035942188269023047,\n",
       " 0.036783403783422798,\n",
       " 0.034645645249887107,\n",
       " 0.034830174820047799,\n",
       " 0.037158010056075427,\n",
       " 0.038255706232854889]"
      ]
     },
     "execution_count": 20,
     "metadata": {},
     "output_type": "execute_result"
    }
   ],
   "source": [
    "mae"
   ]
  },
  {
   "cell_type": "code",
   "execution_count": 23,
   "metadata": {
    "collapsed": false
   },
   "outputs": [
    {
     "data": {
      "text/plain": [
       "[-0.137745685712789,\n",
       " -0.10941226627211109,\n",
       " -0.11687879356892616,\n",
       " -0.19474821012161403,\n",
       " -0.074726482799533533,\n",
       " -0.0049900366349580061,\n",
       " -0.10622891179000127,\n",
       " -0.0033763362585055301,\n",
       " -0.076284492992721997,\n",
       " -0.16276290004955007]"
      ]
     },
     "execution_count": 23,
     "metadata": {},
     "output_type": "execute_result"
    }
   ],
   "source": [
    "r2"
   ]
  },
  {
   "cell_type": "code",
   "execution_count": 24,
   "metadata": {
    "collapsed": false
   },
   "outputs": [
    {
     "data": {
      "text/plain": [
       "[0.0020779781640737076,\n",
       " 0.0018828308590568201,\n",
       " 0.0017420423631281253,\n",
       " 0.0018644232736827364,\n",
       " 0.0019180495589096308,\n",
       " 0.001906632559453449,\n",
       " 0.0017210459624910524,\n",
       " 0.0018042685217776477,\n",
       " 0.0020065863326843426,\n",
       " 0.0021483737561197916]"
      ]
     },
     "execution_count": 24,
     "metadata": {},
     "output_type": "execute_result"
    }
   ],
   "source": [
    "mse"
   ]
  },
  {
   "cell_type": "markdown",
   "metadata": {},
   "source": [
    "###4) Comment on each of the performance metric you obtained."
   ]
  },
  {
   "cell_type": "code",
   "execution_count": null,
   "metadata": {
    "collapsed": true
   },
   "outputs": [],
   "source": []
  }
 ],
 "metadata": {
  "kernelspec": {
   "display_name": "Python 3",
   "language": "python",
   "name": "python3"
  },
  "language_info": {
   "codemirror_mode": {
    "name": "ipython",
    "version": 3
   },
   "file_extension": ".py",
   "mimetype": "text/x-python",
   "name": "python",
   "nbconvert_exporter": "python",
   "pygments_lexer": "ipython3",
   "version": "3.4.3"
  }
 },
 "nbformat": 4,
 "nbformat_minor": 0
}
