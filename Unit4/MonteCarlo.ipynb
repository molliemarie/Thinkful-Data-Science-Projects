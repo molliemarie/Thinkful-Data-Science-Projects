{
 "cells": [
  {
   "cell_type": "markdown",
   "metadata": {},
   "source": [
    "#Thinkful Data Science Course\n",
    "##Unit 4: Predicting the Future; \n",
    "##Lesson 9: Other Algorithms and Course Wrap-up\n",
    "###Monte Carlo\n",
    "\n",
    "The Monte Carlo method is an approach to understanding the results of a random process or group of random processes. The intuition behind a Monte Carlo (MC) simulation is simple, though the implementation can be tricky. Still, the MC approach is well worth understanding, since it's often the simplest way to explore complicated outcomes driven by a series of random events.\n",
    "\n",
    "The MC approach is to model the possible outcomes of a random process using a computer simulation and run that simulation a number of times. The results of these simulations will then give you an understanding of the possible outcomes of the process, often in terms of the distributions of certain outcomes or group of outcomes.\n",
    "\n",
    "To illustrate, let us take the example of flipping a coin. If we wanted to understand the outcome of flipping a coin a number of times, we could calculate out the expectations of the process using some basic probability laws. So, if we flip a coin 10 times, the chance we get four heads is combination(10,4) * .5 or around .21.\n",
    "\n",
    "We could also flip a coin 10 times to see how many times we got heads. We could then repeat this empirical experiment a number of times (since the outcome is random) and see what the probability of four heads converges to.\n",
    "\n",
    "But we can take this an empirical step further and rather than physically flipping the coin, we get a computer to simulate the flipping of a coin. Computers can generate random numbers using a function like those found in the \"random\" library in Python. For example, the function:\n",
    "\n",
    "x=random.random()\n",
    "\n",
    "will return a random value (uniformly distributed) between 0 and 1. We can run this code multiple times to get a series of random values for x.\n",
    "\n",
    "for _ in range (10):\n",
    "    print random.random()\n",
    "    \n",
    "We can then compile the results of this iterative generation of random numbers to get all sorts of measures of the possible outcomes: sums, averages, distributions, and so on.\n",
    "\n",
    "If we wrap the random function in an \"clause\" so that any value above .5 returns a value of \"tail\" (and if not it returns \"head\"), we have essentially simulated the flipping of a coin.\n",
    "\n",
    "Let us build on the above example to create a more in-depth simulation.\n",
    "\n",
    "We're going to use the opportunity to demonstrate an entire Python module and a simple class of object. Objects combine data with functionality. They are most appropriate when you have multiple objects that may have relationships with each other. Thus, for simple coins this is a little bit of overkill, but hopefully this will be helpful in understanding objects."
   ]
  },
  {
   "cell_type": "code",
   "execution_count": 7,
   "metadata": {
    "collapsed": true
   },
   "outputs": [
    {
     "name": "stdout",
     "output_type": "stream",
     "text": [
      "509\n",
      "496\n",
      "490\n",
      "501\n",
      "515\n",
      "490\n",
      "489\n",
      "504\n",
      "497\n",
      "498\n",
      "491\n",
      "492\n",
      "489\n",
      "490\n",
      "502\n",
      "481\n",
      "496\n",
      "511\n",
      "472\n",
      "495\n",
      "488\n",
      "510\n",
      "524\n",
      "496\n",
      "515\n",
      "519\n",
      "499\n",
      "488\n",
      "505\n",
      "489\n",
      "519\n",
      "491\n",
      "510\n",
      "492\n",
      "490\n",
      "508\n",
      "504\n",
      "495\n",
      "480\n",
      "505\n",
      "474\n",
      "472\n",
      "473\n",
      "532\n",
      "513\n",
      "515\n",
      "469\n",
      "480\n",
      "504\n",
      "488\n",
      "501\n",
      "475\n",
      "511\n",
      "483\n",
      "516\n",
      "492\n",
      "499\n",
      "489\n",
      "486\n",
      "509\n",
      "504\n",
      "497\n",
      "520\n",
      "516\n",
      "475\n",
      "505\n",
      "493\n",
      "510\n",
      "534\n",
      "492\n",
      "503\n",
      "508\n",
      "511\n",
      "528\n",
      "499\n",
      "481\n",
      "508\n",
      "484\n",
      "488\n",
      "506\n",
      "520\n",
      "482\n",
      "487\n",
      "507\n",
      "495\n",
      "499\n",
      "493\n",
      "479\n",
      "501\n",
      "495\n",
      "485\n",
      "509\n",
      "488\n",
      "500\n",
      "527\n",
      "497\n",
      "505\n",
      "492\n",
      "455\n",
      "502\n"
     ]
    }
   ],
   "source": [
    "import random\n",
    "from numpy.random import normal\n",
    "\n",
    "# let's create a fair coin object that can be flipped:\n",
    "\n",
    "class Coin(object):\n",
    "    '''this is a simple fair coin, can be pseudorandomly flipped'''\n",
    "    sides = ('heads', 'tails')\n",
    "    last_result = None\n",
    "\n",
    "    def flip(self):\n",
    "        '''call coin.flip() to flip the coin and record it as the last result'''\n",
    "        self.last_result = result = random.choice(self.sides)\n",
    "        return result\n",
    "\n",
    "# let's create some auxilliary functions to manipulate the coins:\n",
    "\n",
    "def create_coins(number):\n",
    "    '''create a list of a number of coin objects'''\n",
    "    return [Coin() for _ in range(number)]\n",
    "\n",
    "def flip_coins(coins):\n",
    "    '''side effect function, modifies object in place, returns None'''\n",
    "    for coin in coins:\n",
    "        coin.flip()\n",
    "\n",
    "def count_heads(flipped_coins):\n",
    "    return sum(coin.last_result == 'heads' for coin in flipped_coins)\n",
    "\n",
    "def count_tails(flipped_coins):\n",
    "    return sum(coin.last_result == 'tails' for coin in flipped_coins)\n",
    "\n",
    "\n",
    "def main():\n",
    "    coins = create_coins(1000)\n",
    "    for i in range(100):\n",
    "        flip_coins(coins)\n",
    "        print(count_heads(coins))\n",
    "\n",
    "if __name__ == '__main__':\n",
    "    main()"
   ]
  },
  {
   "cell_type": "markdown",
   "metadata": {},
   "source": [
    "When we run the script, the module's __name__ will be the __main__ module, and so the main() function will be called. The main function will create 1000 simulated coins. It will then simulate flipping them all 100 times, and then print out the number of them that came up heads. Intuitively, this is a way to get a sense for the range and consistency of possible outcomes if in real life you had to flip a fair coin 100 times (or 100 coins).\n",
    "\n",
    "What you'll see is that the result is a sum of random variables. The sum of random variables is a normal random variable. That is, the probability space of outcomes will be shaped like a bell curve. If we created a histogram of these outcomes, that is what we'd likely see.\n",
    "\n",
    "This method can be used to simulate everything from flipping coins and rolling roulette wheels to the performance of portfolios over time.\n",
    "\n",
    "####Challenge\n",
    "\n",
    "Modify the above program to generate trials of a normal variable. How does this distribution look different than the coin-flipping example? What should it look like?"
   ]
  },
  {
   "cell_type": "code",
   "execution_count": 9,
   "metadata": {
    "collapsed": true
   },
   "outputs": [],
   "source": [
    "%matplotlib inline"
   ]
  },
  {
   "cell_type": "code",
   "execution_count": 10,
   "metadata": {
    "collapsed": false
   },
   "outputs": [
    {
     "data": {
      "text/plain": [
       "(array([  5.,   4.,   8.,  13.,   6.,  18.,  19.,  15.,   6.,   6.]),\n",
       " array([ 659. ,  664.8,  670.6,  676.4,  682.2,  688. ,  693.8,  699.6,\n",
       "         705.4,  711.2,  717. ]),\n",
       " <a list of 10 Patch objects>)"
      ]
     },
     "execution_count": 10,
     "metadata": {},
     "output_type": "execute_result"
    },
    {
     "data": {
      "image/png": "[encoded data removed]",
      "text/plain": [
       "<matplotlib.figure.Figure at 0x107111b70>"
      ]
     },
     "metadata": {},
     "output_type": "display_data"
    }
   ],
   "source": [
    "import matplotlib.pyplot as plt\n",
    "\n",
    "def flip(p):\n",
    "    if random.normalvariate(0, 1) < p: # drawing from normal distribution\n",
    "        return 'heads'\n",
    "    else:\n",
    "        return 'tails'\n",
    "\n",
    "count_ = [] \n",
    "no_experiments = 100\n",
    "no_of_trials_in_experimet = 1000\n",
    "     \n",
    "for i in range(no_experiments): \n",
    "    list_ = []  \n",
    "    for j in range(no_of_trials_in_experimet):\n",
    "        list_.append(flip(p = 0.5))\n",
    "    count_.append(list_.count('heads'))\n",
    "    \n",
    "plt.hist(count_)   "
   ]
  },
  {
   "cell_type": "markdown",
   "metadata": {},
   "source": [
    "Modify the above program to track the maximum and minimum of each trial of normal variables. Run 100 simulations of these trials. What does the distribution extremes look like? What should it look like?"
   ]
  },
  {
   "cell_type": "code",
   "execution_count": null,
   "metadata": {
    "collapsed": true
   },
   "outputs": [],
   "source": []
  }
 ],
 "metadata": {
  "kernelspec": {
   "display_name": "Python 3",
   "language": "python",
   "name": "python3"
  },
  "language_info": {
   "codemirror_mode": {
    "name": "ipython",
    "version": 3
   },
   "file_extension": ".py",
   "mimetype": "text/x-python",
   "name": "python",
   "nbconvert_exporter": "python",
   "pygments_lexer": "ipython3",
   "version": "3.4.3"
  }
 },
 "nbformat": 4,
 "nbformat_minor": 0
}
